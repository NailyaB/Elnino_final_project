{
  "nbformat": 4,
  "nbformat_minor": 0,
  "metadata": {
    "colab": {
      "provenance": []
    },
    "kernelspec": {
      "name": "python3",
      "display_name": "Python 3"
    },
    "language_info": {
      "name": "python"
    }
  },
  "cells": [
    {
      "cell_type": "code",
      "execution_count": null,
      "metadata": {
        "id": "PdiFVt0irUdP"
      },
      "outputs": [],
      "source": []
    },
    {
      "cell_type": "markdown",
      "source": [
        "a.Импортируйте библиотеку NumPy\n",
        "\n",
        "j.Используйте NumPy для генерации массива из 25 случайных чисел,взятых из стандартного нормального распределения"
      ],
      "metadata": {
        "id": "8hSnbbIYrgoQ"
      }
    },
    {
      "cell_type": "markdown",
      "source": [
        "Импортируйте библиотеку NumPy b.Создайте массив из 10 нулей"
      ],
      "metadata": {
        "id": "hQlmpk3QvRH-"
      }
    },
    {
      "cell_type": "code",
      "source": [
        "import numpy as np\n",
        "a=np.zeros(10)\n",
        "print(a)"
      ],
      "metadata": {
        "colab": {
          "base_uri": "https://localhost:8080/"
        },
        "id": "zuY2d6gYvOE6",
        "outputId": "4cfdeff2-1e78-432c-f17f-672f80cf993f"
      },
      "execution_count": null,
      "outputs": [
        {
          "output_type": "stream",
          "name": "stdout",
          "text": [
            "[0. 0. 0. 0. 0. 0. 0. 0. 0. 0.]\n"
          ]
        }
      ]
    },
    {
      "cell_type": "markdown",
      "source": [
        "a.Импортируйте библиотеку NumPy c.Создать массив из 10 единиц"
      ],
      "metadata": {
        "id": "MMc4HwH8vvW8"
      }
    },
    {
      "cell_type": "code",
      "source": [
        "import numpy as np\n",
        "a=np.ones(10)\n",
        "\n",
        "print(a)"
      ],
      "metadata": {
        "colab": {
          "base_uri": "https://localhost:8080/"
        },
        "id": "YA2JP1rlvw7b",
        "outputId": "7821b7e4-bcfc-4c6a-ab8a-0a9563b1bafb"
      },
      "execution_count": null,
      "outputs": [
        {
          "output_type": "stream",
          "name": "stdout",
          "text": [
            "[1. 1. 1. 1. 1. 1. 1. 1. 1. 1.]\n"
          ]
        }
      ]
    },
    {
      "cell_type": "markdown",
      "source": [
        "a.Импортируйте библиотеку NumPy d.Создать массив из 10 пятерок"
      ],
      "metadata": {
        "id": "Lq9fvq2awBQt"
      }
    },
    {
      "cell_type": "code",
      "source": [
        "import numpy as np\n",
        "my_list = [5,5,5,5,5,5,5,5,5,5]\n",
        "print(my_list)"
      ],
      "metadata": {
        "colab": {
          "base_uri": "https://localhost:8080/"
        },
        "id": "7P76VlmgwCYl",
        "outputId": "f136e618-6db5-432d-ac8a-8b2f7914b9f4"
      },
      "execution_count": null,
      "outputs": [
        {
          "output_type": "stream",
          "name": "stdout",
          "text": [
            "[5, 5, 5, 5, 5, 5, 5, 5, 5, 5]\n"
          ]
        }
      ]
    },
    {
      "cell_type": "markdown",
      "source": [
        "a.Импортируйте библиотеку NumPy e.Создать массив из целых чисел от 10 до 50"
      ],
      "metadata": {
        "id": "9nR9Fktrw3V0"
      }
    },
    {
      "cell_type": "code",
      "source": [
        "import numpy as np\n",
        "a=np.arange(10,51)\n",
        "print(a)\n"
      ],
      "metadata": {
        "colab": {
          "base_uri": "https://localhost:8080/"
        },
        "id": "1Ow1LFQLw9CY",
        "outputId": "ad637323-6f0f-40db-e45f-8ad282d65a46"
      },
      "execution_count": null,
      "outputs": [
        {
          "output_type": "stream",
          "name": "stdout",
          "text": [
            "[10 11 12 13 14 15 16 17 18 19 20 21 22 23 24 25 26 27 28 29 30 31 32 33\n",
            " 34 35 36 37 38 39 40 41 42 43 44 45 46 47 48 49 50]\n"
          ]
        }
      ]
    },
    {
      "cell_type": "markdown",
      "source": [
        "\n",
        "a.Импортируйте библиотеку NumPy f.Создать массив из четных чисел от 10 до 50\n"
      ],
      "metadata": {
        "id": "LG8OkgxnxwIt"
      }
    },
    {
      "cell_type": "code",
      "source": [
        "import numpy as np\n",
        "a=np.arange(10,51,2)\n",
        "print(a)"
      ],
      "metadata": {
        "colab": {
          "base_uri": "https://localhost:8080/"
        },
        "id": "SPlvAcWXx0aS",
        "outputId": "e893d866-5fa4-4609-c12c-a7b89fba0bad"
      },
      "execution_count": null,
      "outputs": [
        {
          "output_type": "stream",
          "name": "stdout",
          "text": [
            "[10 12 14 16 18 20 22 24 26 28 30 32 34 36 38 40 42 44 46 48 50]\n"
          ]
        }
      ]
    },
    {
      "cell_type": "markdown",
      "source": [
        "a.Импортируйте библиотеку NumPy g.Создать матрицу 3х3 с числами от 0 до 8"
      ],
      "metadata": {
        "id": "061nbugtyLIP"
      }
    },
    {
      "cell_type": "code",
      "source": [
        "import numpy as np\n",
        "arr=np.arange(0,9)\n",
        "arr=arr.reshape(3,3)\n",
        "print(arr)"
      ],
      "metadata": {
        "colab": {
          "base_uri": "https://localhost:8080/"
        },
        "id": "YfB6GlFEysER",
        "outputId": "6275be88-0dc0-46b2-93bd-2b023c834c8b"
      },
      "execution_count": null,
      "outputs": [
        {
          "output_type": "stream",
          "name": "stdout",
          "text": [
            "[[0 1 2]\n",
            " [3 4 5]\n",
            " [6 7 8]]\n"
          ]
        }
      ]
    },
    {
      "cell_type": "markdown",
      "source": [
        "a.Импортируйте библиотеку NumPy h.Создать единичную матрицу 3x3"
      ],
      "metadata": {
        "id": "utrrEj_by6YR"
      }
    },
    {
      "cell_type": "code",
      "source": [
        "import numpy as np\n",
        "arr=np.eye(3)\n",
        "print(arr)"
      ],
      "metadata": {
        "colab": {
          "base_uri": "https://localhost:8080/"
        },
        "id": "yWJd5MYszgKf",
        "outputId": "57a8e184-df44-4dac-df5b-890805b29f1d"
      },
      "execution_count": null,
      "outputs": [
        {
          "output_type": "stream",
          "name": "stdout",
          "text": [
            "[[1. 0. 0.]\n",
            " [0. 1. 0.]\n",
            " [0. 0. 1.]]\n"
          ]
        }
      ]
    },
    {
      "cell_type": "markdown",
      "source": [
        "a.Импортируйте библиотеку NumPy i.Используйте NumPy для генерации случайного числа от 0 до 1"
      ],
      "metadata": {
        "id": "JEhBbUBczrDI"
      }
    },
    {
      "cell_type": "code",
      "source": [
        "import numpy as np\n",
        "a=np.random.rand(1)\n",
        "print(a)"
      ],
      "metadata": {
        "colab": {
          "base_uri": "https://localhost:8080/"
        },
        "id": "4kxuOOfYzskv",
        "outputId": "dd59f12b-6528-489e-852a-e0d79b2d8760"
      },
      "execution_count": null,
      "outputs": [
        {
          "output_type": "stream",
          "name": "stdout",
          "text": [
            "[0.88165548]\n"
          ]
        }
      ]
    },
    {
      "cell_type": "markdown",
      "source": [
        ".Импортируйте библиотеку NumPy j.Используйте NumPy для генерации массива из 25 случайных чисел,взятых из стандартного нормального распределения"
      ],
      "metadata": {
        "id": "dSc4_Xavz3CJ"
      }
    },
    {
      "cell_type": "code",
      "source": [
        "import numpy as np\n",
        "##статистика\n",
        "arr=np.arange(0,25)\n",
        "#print(arr.mean())\n",
        "#print(arr.std())\n",
        "#print(arr.var())\n",
        "\n",
        "print(a)\n"
      ],
      "metadata": {
        "colab": {
          "base_uri": "https://localhost:8080/"
        },
        "id": "lzjiH8P2z8en",
        "outputId": "b7a6c5ca-d03c-46de-d3e5-390b40cc4dad"
      },
      "execution_count": null,
      "outputs": [
        {
          "output_type": "stream",
          "name": "stdout",
          "text": [
            "[ 5 48 54 55 83 93 71 86 67 28 23 28 63 53 74 53 23 92 82 52  4 80 60 83\n",
            " 52]\n"
          ]
        }
      ]
    },
    {
      "cell_type": "markdown",
      "source": [
        "k"
      ],
      "metadata": {
        "id": "Xi3o3-Zp1HAQ"
      }
    },
    {
      "cell_type": "code",
      "source": [
        "import numpy as np\n",
        "x=np.arange(0.01, 1.01, 0.01)\n",
        "b=x.reshape(10,10)\n",
        "print(b)"
      ],
      "metadata": {
        "colab": {
          "base_uri": "https://localhost:8080/"
        },
        "id": "xmC1E7wt1JtM",
        "outputId": "5241119a-b291-4e28-8a7e-4a391bd6a74d"
      },
      "execution_count": null,
      "outputs": [
        {
          "output_type": "stream",
          "name": "stdout",
          "text": [
            "[[0.01 0.02 0.03 0.04 0.05 0.06 0.07 0.08 0.09 0.1 ]\n",
            " [0.11 0.12 0.13 0.14 0.15 0.16 0.17 0.18 0.19 0.2 ]\n",
            " [0.21 0.22 0.23 0.24 0.25 0.26 0.27 0.28 0.29 0.3 ]\n",
            " [0.31 0.32 0.33 0.34 0.35 0.36 0.37 0.38 0.39 0.4 ]\n",
            " [0.41 0.42 0.43 0.44 0.45 0.46 0.47 0.48 0.49 0.5 ]\n",
            " [0.51 0.52 0.53 0.54 0.55 0.56 0.57 0.58 0.59 0.6 ]\n",
            " [0.61 0.62 0.63 0.64 0.65 0.66 0.67 0.68 0.69 0.7 ]\n",
            " [0.71 0.72 0.73 0.74 0.75 0.76 0.77 0.78 0.79 0.8 ]\n",
            " [0.81 0.82 0.83 0.84 0.85 0.86 0.87 0.88 0.89 0.9 ]\n",
            " [0.91 0.92 0.93 0.94 0.95 0.96 0.97 0.98 0.99 1.  ]]\n"
          ]
        }
      ]
    },
    {
      "cell_type": "markdown",
      "source": [
        "l.# это наша стартовая матрица mat = np.arange(1,26).reshape(5,5)\n",
        "print(mat) Необходимо написать код который вернет следующую матрицу\n",
        "из стартовой от 12 до 25"
      ],
      "metadata": {
        "id": "VcRaoiM74XPB"
      }
    },
    {
      "cell_type": "code",
      "source": [
        "import numpy as np\n",
        "mat = np.arange(1,26).reshape(5,5)\n",
        "print(mat)\n",
        "#-----------------------\n",
        "\n",
        "print(mat[2:,1:])"
      ],
      "metadata": {
        "colab": {
          "base_uri": "https://localhost:8080/"
        },
        "id": "K4R8mTv35HcR",
        "outputId": "109887dc-5829-48dd-9171-2b1da1ea9c7c"
      },
      "execution_count": null,
      "outputs": [
        {
          "output_type": "stream",
          "name": "stdout",
          "text": [
            "[[ 1  2  3  4  5]\n",
            " [ 6  7  8  9 10]\n",
            " [11 12 13 14 15]\n",
            " [16 17 18 19 20]\n",
            " [21 22 23 24 25]]\n",
            "[[12 13 14 15]\n",
            " [17 18 19 20]\n",
            " [22 23 24 25]]\n"
          ]
        }
      ]
    },
    {
      "cell_type": "markdown",
      "source": [
        "Написать код обращения к элементу который вернет значение 20 из\n",
        "стартовой матрицы задачи l."
      ],
      "metadata": {
        "id": "JM9UtOMIFN4b"
      }
    },
    {
      "cell_type": "code",
      "source": [
        "import numpy as np\n",
        "mat = np.arange(1,26).reshape(5,5)\n",
        "print(mat)\n",
        "#-----------------------\n",
        "print(mat[3,4])\n"
      ],
      "metadata": {
        "colab": {
          "base_uri": "https://localhost:8080/"
        },
        "id": "1h76gvgwFO3A",
        "outputId": "28feda4e-8532-4bf8-f585-ae93347737cb"
      },
      "execution_count": null,
      "outputs": [
        {
          "output_type": "stream",
          "name": "stdout",
          "text": [
            "[[ 1  2  3  4  5]\n",
            " [ 6  7  8  9 10]\n",
            " [11 12 13 14 15]\n",
            " [16 17 18 19 20]\n",
            " [21 22 23 24 25]]\n",
            "20\n"
          ]
        }
      ]
    },
    {
      "cell_type": "markdown",
      "source": [
        "Написать код к стартовой матрице задачи l , который воспроизводит\n",
        "вывод, показанный ниже\n",
        "2\n",
        "7\n",
        "12"
      ],
      "metadata": {
        "id": "ydGsJ9w7Fc7z"
      }
    },
    {
      "cell_type": "code",
      "source": [
        "import numpy as np\n",
        "mat = np.arange(1,26).reshape(5,5)\n",
        "print(mat)\n",
        "#-----------------------\n",
        "print(mat[0:3,1])"
      ],
      "metadata": {
        "colab": {
          "base_uri": "https://localhost:8080/"
        },
        "id": "vofLvLgrFfWp",
        "outputId": "cfef4a02-d09f-46a8-d109-0cabac28fef7"
      },
      "execution_count": null,
      "outputs": [
        {
          "output_type": "stream",
          "name": "stdout",
          "text": [
            "[[ 1  2  3  4  5]\n",
            " [ 6  7  8  9 10]\n",
            " [11 12 13 14 15]\n",
            " [16 17 18 19 20]\n",
            " [21 22 23 24 25]]\n",
            "[ 2  7 12]\n"
          ]
        }
      ]
    },
    {
      "cell_type": "markdown",
      "source": [
        "Написать код к стартовой матрице задачи l , который воспроизводит\n",
        "вывод, показанный ниже \n",
        "21 22 23 24 25"
      ],
      "metadata": {
        "id": "vusi6o5GFvVR"
      }
    },
    {
      "cell_type": "code",
      "source": [
        "import numpy as np\n",
        "mat = np.arange(1,26).reshape(5,5)\n",
        "print(mat)\n",
        "#-----------------------\n",
        "print(mat[4,:])"
      ],
      "metadata": {
        "colab": {
          "base_uri": "https://localhost:8080/"
        },
        "id": "VQpt_Ea_F0Q8",
        "outputId": "1d4f6638-ef29-4882-b9cd-d1ed2f47057b"
      },
      "execution_count": null,
      "outputs": [
        {
          "output_type": "stream",
          "name": "stdout",
          "text": [
            "[[ 1  2  3  4  5]\n",
            " [ 6  7  8  9 10]\n",
            " [11 12 13 14 15]\n",
            " [16 17 18 19 20]\n",
            " [21 22 23 24 25]]\n",
            "[21 22 23 24 25]\n"
          ]
        }
      ]
    },
    {
      "cell_type": "markdown",
      "source": [
        "Написать код к стартовой матрице задачи l , который воспроизводит\n",
        "вывод, показанный ниже\n",
        "16 17 18 19 20\n",
        "21 22 23 24 25\n"
      ],
      "metadata": {
        "id": "Yc4pBvU-F-fL"
      }
    },
    {
      "cell_type": "code",
      "source": [
        "import numpy as np\n",
        "mat = np.arange(1,26).reshape(5,5)\n",
        "print(mat)\n",
        "#-----------------------\n",
        "print(mat[3:,:])"
      ],
      "metadata": {
        "colab": {
          "base_uri": "https://localhost:8080/"
        },
        "id": "9Mk5zQ6OGFyW",
        "outputId": "95e9bc49-75ba-4610-f9a1-b354d5f52149"
      },
      "execution_count": null,
      "outputs": [
        {
          "output_type": "stream",
          "name": "stdout",
          "text": [
            "[[ 1  2  3  4  5]\n",
            " [ 6  7  8  9 10]\n",
            " [11 12 13 14 15]\n",
            " [16 17 18 19 20]\n",
            " [21 22 23 24 25]]\n",
            "[[16 17 18 19 20]\n",
            " [21 22 23 24 25]]\n"
          ]
        }
      ]
    },
    {
      "cell_type": "markdown",
      "source": [
        "Получить сумму всех значений в стартовой матрице mat"
      ],
      "metadata": {
        "id": "aJ3VESWzGZLu"
      }
    },
    {
      "cell_type": "code",
      "source": [
        "import numpy as np\n",
        "mat = np.arange(1,26).reshape(5,5)\n",
        "print(mat)\n",
        "#-----------------------\n",
        "\n",
        "print(mat.sum())"
      ],
      "metadata": {
        "colab": {
          "base_uri": "https://localhost:8080/"
        },
        "id": "8kFxitN1Ganh",
        "outputId": "0edfa6e5-2182-4ffe-9a1e-7bf41d994dbf"
      },
      "execution_count": null,
      "outputs": [
        {
          "output_type": "stream",
          "name": "stdout",
          "text": [
            "[[ 1  2  3  4  5]\n",
            " [ 6  7  8  9 10]\n",
            " [11 12 13 14 15]\n",
            " [16 17 18 19 20]\n",
            " [21 22 23 24 25]]\n",
            "325\n"
          ]
        }
      ]
    },
    {
      "cell_type": "markdown",
      "source": [
        "Получить стандартное отклонение в стартовой матрице mat"
      ],
      "metadata": {
        "id": "jKgS_OFtG1n_"
      }
    },
    {
      "cell_type": "code",
      "source": [
        "import numpy as np\n",
        "mat = np.arange(1,26).reshape(5,5)\n",
        "print(mat)\n",
        "#-----------------------\n",
        "\n",
        "print(np.std(mat))"
      ],
      "metadata": {
        "colab": {
          "base_uri": "https://localhost:8080/"
        },
        "id": "mxKMWVpHG2X0",
        "outputId": "834dbcfb-098d-4adc-ffec-f1d523da9648"
      },
      "execution_count": null,
      "outputs": [
        {
          "output_type": "stream",
          "name": "stdout",
          "text": [
            "[[ 1  2  3  4  5]\n",
            " [ 6  7  8  9 10]\n",
            " [11 12 13 14 15]\n",
            " [16 17 18 19 20]\n",
            " [21 22 23 24 25]]\n",
            "7.211102550927978\n"
          ]
        }
      ]
    },
    {
      "cell_type": "markdown",
      "source": [
        "Получить сумму значений в колонках в стартовой матрице mat"
      ],
      "metadata": {
        "id": "xwGbnAIsHCrw"
      }
    },
    {
      "cell_type": "code",
      "source": [
        "import numpy as np\n",
        "mat = np.arange(1,26).reshape(5,5)\n",
        "print(mat)\n",
        "#-----------------------\n",
        "print(mat.sum(axis=0))"
      ],
      "metadata": {
        "colab": {
          "base_uri": "https://localhost:8080/"
        },
        "id": "ZYH3s_6hHH9A",
        "outputId": "96648249-5159-43dd-ceec-6b17a2ccc397"
      },
      "execution_count": null,
      "outputs": [
        {
          "output_type": "stream",
          "name": "stdout",
          "text": [
            "[[ 1  2  3  4  5]\n",
            " [ 6  7  8  9 10]\n",
            " [11 12 13 14 15]\n",
            " [16 17 18 19 20]\n",
            " [21 22 23 24 25]]\n",
            "[55 60 65 70 75]\n"
          ]
        }
      ]
    }
  ]
}